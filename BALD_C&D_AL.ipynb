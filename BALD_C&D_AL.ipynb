{
  "cells": [
    {
      "cell_type": "markdown",
      "metadata": {
        "id": "view-in-github",
        "colab_type": "text"
      },
      "source": [
        "<a href=\"https://colab.research.google.com/github/rishabh-mondal/brick_klins/blob/main/BALD_C%26D_AL.ipynb\" target=\"_parent\"><img src=\"https://colab.research.google.com/assets/colab-badge.svg\" alt=\"Open In Colab\"/></a>"
      ]
    },
    {
      "cell_type": "code",
      "execution_count": 17,
      "metadata": {
        "id": "O7rxdPe7ZKot"
      },
      "outputs": [],
      "source": [
        "import os, cv2, random\n",
        "import numpy as np\n",
        "import pandas as pd\n",
        "import matplotlib.pyplot as plt\n",
        "from sklearn.model_selection import train_test_split\n",
        "from random import shuffle\n",
        "from keras.utils.vis_utils import model_to_dot\n",
        "from keras.utils import plot_model\n",
        "from tensorflow.python.keras.models import Sequential\n",
        "from tensorflow.python.keras.layers import Dense, Flatten, GlobalAveragePooling2D\n",
        "%matplotlib inline\n",
        "from sklearn.preprocessing import LabelEncoder\n",
        "from keras.utils import to_categorical\n",
        "from sklearn.metrics import accuracy_score\n",
        "from tensorflow.keras.models import Sequential\n",
        "from tensorflow.keras.layers import Conv2D, MaxPooling2D, Flatten, Dense, Dropout\n",
        "from tensorflow.keras.utils import to_categorical\n"
      ]
    },
    {
      "cell_type": "code",
      "execution_count": 2,
      "metadata": {
        "colab": {
          "base_uri": "https://localhost:8080/"
        },
        "id": "tiuGpfCRq1Dp",
        "outputId": "143a0e3f-3c70-49c7-b3a3-2e478682d785"
      },
      "outputs": [
        {
          "output_type": "stream",
          "name": "stdout",
          "text": [
            "Mounted at /content/drive\n"
          ]
        }
      ],
      "source": [
        "from google.colab import drive\n",
        "drive.mount('/content/drive')"
      ]
    },
    {
      "cell_type": "code",
      "execution_count": 3,
      "metadata": {
        "id": "m45Iz3ACV1Ll"
      },
      "outputs": [],
      "source": [
        "traindata= '/content/drive/MyDrive/archive/test'\n",
        "cats_dir = '/content/drive/MyDrive/archive/test/cat'\n",
        "dogs_dir = '/content/drive/MyDrive/archive/test/dog'\n",
        "testdata='/content/drive/MyDrive/archive/train'\n"
      ]
    },
    {
      "cell_type": "code",
      "source": [
        "from tensorflow.keras.preprocessing.image import load_img, img_to_array\n",
        "\n",
        "class_labels = {'cat': 0, 'dog': 1}\n",
        "\n",
        "data = []\n",
        "labels = []\n",
        "\n",
        "for filename in os.listdir(cats_dir):\n",
        "    if filename.endswith(\".jpg\"):\n",
        "        img_path = os.path.join(cats_dir, filename)\n",
        "        img = load_img(img_path, target_size=(224, 224))  # Resize as needed\n",
        "        img_array = img_to_array(img)\n",
        "        data.append(img_array)\n",
        "        labels.append(class_labels['cat'])\n",
        "\n",
        "for filename in os.listdir(dogs_dir):\n",
        "    if filename.endswith(\".jpg\"):\n",
        "        img_path = os.path.join(dogs_dir, filename)\n",
        "        img = load_img(img_path, target_size=(224, 224))  # Resize as needed\n",
        "        img_array = img_to_array(img)\n",
        "        data.append(img_array)\n",
        "        labels.append(class_labels['dog'])\n",
        "\n",
        "data = np.array(data)\n",
        "labels = np.array(labels)\n",
        "\n",
        "one_hot_labels = to_categorical(labels, num_classes=len(class_labels))\n",
        "\n",
        "print(\"Data shape:\", data.shape)\n",
        "print(\"One-hot labels shape:\", one_hot_labels.shape)\n"
      ],
      "metadata": {
        "colab": {
          "base_uri": "https://localhost:8080/"
        },
        "id": "-iVZEZKif6Mk",
        "outputId": "0c0f3325-4987-4007-b805-84c38b161fda"
      },
      "execution_count": 4,
      "outputs": [
        {
          "output_type": "stream",
          "name": "stdout",
          "text": [
            "Data shape: (617, 224, 224, 3)\n",
            "One-hot labels shape: (617, 2)\n"
          ]
        }
      ]
    },
    {
      "cell_type": "code",
      "source": [
        "from sklearn.model_selection import train_test_split\n",
        "\n",
        "train_X, test_X, train_y, test_y = train_test_split(data, one_hot_labels, test_size=0.2, random_state=42)\n",
        "train_X, pool_X, train_y, pool_y = train_test_split(train_X, train_y, train_size=0.05, random_state=42)\n",
        "\n",
        "print(\"Train data shape:\", train_X.shape)\n",
        "print(\"Train labels shape:\", train_y.shape)\n",
        "print(\"Pool data shape:\", pool_X.shape)\n",
        "print(\"Pool labels shape:\", pool_y.shape)\n",
        "print(\"Test data shape:\", test_X.shape)\n",
        "print(\"Test labels shape:\", test_y.shape)\n"
      ],
      "metadata": {
        "id": "112RbEIfV36C",
        "colab": {
          "base_uri": "https://localhost:8080/"
        },
        "outputId": "ff60443c-b39f-4f64-9367-7cb103778e4b"
      },
      "execution_count": 5,
      "outputs": [
        {
          "output_type": "stream",
          "name": "stdout",
          "text": [
            "Train data shape: (24, 224, 224, 3)\n",
            "Train labels shape: (24, 2)\n",
            "Pool data shape: (469, 224, 224, 3)\n",
            "Pool labels shape: (469, 2)\n",
            "Test data shape: (124, 224, 224, 3)\n",
            "Test labels shape: (124, 2)\n"
          ]
        }
      ]
    },
    {
      "cell_type": "code",
      "source": [
        "import matplotlib.pyplot as plt\n",
        "\n",
        "num_images_to_display = 24\n",
        "\n",
        "for i in range(num_images_to_display):\n",
        "    plt.subplot(1, num_images_to_display, i+1)\n",
        "    plt.imshow(train_X[i].astype('uint8'))\n",
        "    plt.title(f'{train_y[i].argmax()}')  # Display the one-hot label as class\n",
        "    plt.axis('off')\n",
        "\n",
        "plt.show()\n"
      ],
      "metadata": {
        "id": "q2---f7cV32p",
        "colab": {
          "base_uri": "https://localhost:8080/",
          "height": 76
        },
        "outputId": "c1e05895-1b98-43df-90d5-414da9f1c7ff"
      },
      "execution_count": 6,
      "outputs": [
        {
          "output_type": "display_data",
          "data": {
            "text/plain": [
              "<Figure size 640x480 with 24 Axes>"
            ],
            "image/png": "[encoded data removed]"
          },
          "metadata": {}
        }
      ]
    },
    {
      "cell_type": "code",
      "source": [
        "import tensorflow as tf\n",
        "from tensorflow.keras.models import Sequential\n",
        "from tensorflow.keras.layers import Conv2D, MaxPooling2D, Flatten, Dense, Dropout\n",
        "model = Sequential()\n",
        "\n",
        "model.add(Conv2D(32, (3, 3), activation='relu', input_shape=(224, 224, 3)))\n",
        "model.add(MaxPooling2D(2, 2))\n",
        "model.add(Conv2D(64, (3, 3), activation='relu'))\n",
        "model.add(MaxPooling2D(2, 2))\n",
        "model.add(Conv2D(128, (3, 3), activation='relu'))\n",
        "model.add(MaxPooling2D(2, 2))\n",
        "\n",
        "model.add(Flatten())\n",
        "model.add(Dense(512, activation='relu'))\n",
        "model.add(Dropout(0.5))\n",
        "model.add(Dense(2, activation='softmax'))\n",
        "\n",
        "model.compile(optimizer='adam', loss='categorical_crossentropy', metrics=['accuracy'])\n",
        "\n",
        "model.summary()\n"
      ],
      "metadata": {
        "id": "LUeNmVqBV30O",
        "colab": {
          "base_uri": "https://localhost:8080/"
        },
        "outputId": "d3ca41bc-74a6-4e3f-8469-cd3dee0d48be"
      },
      "execution_count": 8,
      "outputs": [
        {
          "output_type": "stream",
          "name": "stdout",
          "text": [
            "Model: \"sequential\"\n",
            "_________________________________________________________________\n",
            " Layer (type)                Output Shape              Param #   \n",
            "=================================================================\n",
            " conv2d (Conv2D)             (None, 222, 222, 32)      896       \n",
            "                                                                 \n",
            " max_pooling2d (MaxPooling2D  (None, 111, 111, 32)     0         \n",
            " )                                                               \n",
            "                                                                 \n",
            " conv2d_1 (Conv2D)           (None, 109, 109, 64)      18496     \n",
            "                                                                 \n",
            " max_pooling2d_1 (MaxPooling  (None, 54, 54, 64)       0         \n",
            " 2D)                                                             \n",
            "                                                                 \n",
            " conv2d_2 (Conv2D)           (None, 52, 52, 128)       73856     \n",
            "                                                                 \n",
            " max_pooling2d_2 (MaxPooling  (None, 26, 26, 128)      0         \n",
            " 2D)                                                             \n",
            "                                                                 \n",
            " flatten (Flatten)           (None, 86528)             0         \n",
            "                                                                 \n",
            " dense (Dense)               (None, 512)               44302848  \n",
            "                                                                 \n",
            " dropout (Dropout)           (None, 512)               0         \n",
            "                                                                 \n",
            " dense_1 (Dense)             (None, 2)                 1026      \n",
            "                                                                 \n",
            "=================================================================\n",
            "Total params: 44,397,122\n",
            "Trainable params: 44,397,122\n",
            "Non-trainable params: 0\n",
            "_________________________________________________________________\n"
          ]
        }
      ]
    },
    {
      "cell_type": "code",
      "source": [
        "def entropy(p):\n",
        "    return -np.sum(p * np.log2(p + 1e-10), axis=1)"
      ],
      "metadata": {
        "id": "ZPJdvjKtoKOC"
      },
      "execution_count": 7,
      "outputs": []
    },
    {
      "cell_type": "code",
      "source": [
        "def random_sample(p,number_of_sample=1):\n",
        "    num_samples = p.shape[0]\n",
        "    sample = np.random.choice(num_samples, size=number_of_sample, replace=False)\n",
        "    return sample"
      ],
      "metadata": {
        "id": "6cv8lu4KUnnF"
      },
      "execution_count": 8,
      "outputs": []
    },
    {
      "cell_type": "code",
      "source": [
        "def BAlD(Y):\n",
        "    E_p = Y.mean(axis=1)\n",
        "    E_p_log_p = np.sum(E_p * np.log2(E_p), axis=1)\n",
        "    E_p_log_1_p = np.sum((1 - E_p) * np.log2(1 - E_p), axis=1)\n",
        "    return E_p_log_p - E_p_log_1_p\n",
        "\n",
        "def mc_dropout_predictions(model, X, num_samples=5):\n",
        "    predictions = []\n",
        "    for _ in range(num_samples):\n",
        "        output = model.predict(X, batch_size=32)  # You might need to adjust the batch_size\n",
        "        predictions.append(output)\n",
        "    return np.array(predictions)"
      ],
      "metadata": {
        "id": "ZQZvROrHX2C3"
      },
      "execution_count": 9,
      "outputs": []
    },
    {
      "cell_type": "code",
      "source": [
        "\n",
        "def active_learning(train_X, train_y, pool_X_train, pool_y_train, pool_X_test, y_test, acquisition_function, num_iterations, number_of_sample=1):\n",
        "    new_indices_list = []\n",
        "    accuracy_iteration = []\n",
        "\n",
        "    for iter in range(num_iterations):\n",
        "        model = Sequential([\n",
        "            Conv2D(32, (3, 3), activation='relu', input_shape=(224, 224, 3)),\n",
        "            MaxPooling2D(2, 2),\n",
        "            Conv2D(64, (3, 3), activation='relu'),\n",
        "            MaxPooling2D(2, 2),\n",
        "            Conv2D(128, (3, 3), activation='relu'),\n",
        "            MaxPooling2D(2, 2),\n",
        "            Flatten(),\n",
        "            Dense(512, activation='relu'),\n",
        "            Dropout(0.5),\n",
        "            Dense(2, activation='softmax')\n",
        "        ])\n",
        "        model.compile(optimizer='adam', loss='categorical_crossentropy')\n",
        "        model.fit(train_X, train_y, epochs=10, batch_size=32, verbose=0)\n",
        "\n",
        "        pool_probabilities = model.predict(pool_X_train)\n",
        "        y_pred_classes = np.argmax(pool_probabilities, axis=1)\n",
        "\n",
        "        acquisition_scores = acquisition_function(pool_probabilities)\n",
        "\n",
        "        selected_indices = np.argsort(acquisition_scores)[-number_of_sample:]\n",
        "\n",
        "        labeled_X = pool_X_train[selected_indices]\n",
        "        labeled_y = pool_y_train[selected_indices]\n",
        "\n",
        "        new_indices_list.append(selected_indices)\n",
        "\n",
        "        train_X = np.concatenate((train_X, labeled_X), axis=0)\n",
        "        train_y = np.concatenate((train_y, labeled_y), axis=0)\n",
        "\n",
        "        pool_X_train = np.delete(pool_X_train, selected_indices, axis=0)\n",
        "        pool_y_train = np.delete(pool_y_train, selected_indices)\n",
        "\n",
        "        y_pred_probabilities = model.predict(pool_X_test)\n",
        "        threshold = 0.5\n",
        "        binary_predictions = np.where(y_pred_probabilities > threshold, 1, 0)\n",
        "\n",
        "        accuracy = accuracy_score(y_test, binary_predictions)\n",
        "        accuracy_iteration.append(accuracy)\n",
        "\n",
        "    return accuracy_iteration, new_indices_list"
      ],
      "metadata": {
        "id": "SmPnwR9nkoeC"
      },
      "execution_count": 12,
      "outputs": []
    },
    {
      "cell_type": "code",
      "source": [
        "\n",
        "def active_learningBALD(train_X, train_y, pool_X_train, pool_y_train, pool_X_test, y_test, num_iterations, number_of_sample=1):\n",
        "    new_indices_list = []\n",
        "    accuracy_iteration = []\n",
        "\n",
        "    for iter in range(num_iterations):\n",
        "        model = Sequential([\n",
        "            Conv2D(32, (3, 3), activation='relu', input_shape=(224, 224, 3)),\n",
        "            MaxPooling2D(2, 2),\n",
        "            Conv2D(64, (3, 3), activation='relu'),\n",
        "            MaxPooling2D(2, 2),\n",
        "            Conv2D(128, (3, 3), activation='relu'),\n",
        "            MaxPooling2D(2, 2),\n",
        "            Flatten(),\n",
        "            Dense(512, activation='relu'),\n",
        "            Dropout(0.5),\n",
        "            Dense(2, activation='softmax')\n",
        "        ])\n",
        "        model.compile(optimizer='adam', loss='categorical_crossentropy')\n",
        "        model.fit(train_X, train_y, epochs=10, batch_size=32, verbose=0)\n",
        "\n",
        "        pool_probabilities = mc_dropout_predictions(model, pool_X_train)\n",
        "        # uncertainty = np.var(pool_probabilities, axis=0).sum(axis=1)\n",
        "        acquisition_scores = BAlD(pool_probabilities)\n",
        "        y_pred_classes = np.argmax(pool_probabilities, axis=1)\n",
        "\n",
        "        selected_indices = np.argsort(acquisition_scores)[-number_of_sample:]\n",
        "\n",
        "        labeled_X = pool_X_train[selected_indices]\n",
        "        labeled_y = pool_y_train[selected_indices]\n",
        "\n",
        "        new_indices_list.append(selected_indices)\n",
        "\n",
        "        train_X = np.concatenate((train_X, labeled_X), axis=0)\n",
        "        train_y = np.concatenate((train_y, labeled_y), axis=0)\n",
        "\n",
        "        pool_X_train = np.delete(pool_X_train, selected_indices, axis=0)\n",
        "        pool_y_train = np.delete(pool_y_train, selected_indices)\n",
        "\n",
        "        y_pred_probabilities = model.predict(pool_X_test)\n",
        "        threshold = 0.5\n",
        "        binary_predictions = np.where(y_pred_probabilities > threshold, 1, 0)\n",
        "\n",
        "        accuracy = accuracy_score(y_test, binary_predictions)\n",
        "        accuracy_iteration.append(accuracy)\n",
        "\n",
        "    return accuracy_iteration, new_indices_list"
      ],
      "metadata": {
        "id": "SCRQra26YtZ4"
      },
      "execution_count": 15,
      "outputs": []
    },
    {
      "cell_type": "code",
      "source": [
        "accuracy_iteration, new_indices_list = active_learningBALD(train_X, train_y, pool_X,pool_y,test_X,test_y , num_iterations=10, number_of_sample=1)\n"
      ],
      "metadata": {
        "id": "vt9IgT_jZsyc"
      },
      "execution_count": null,
      "outputs": []
    },
    {
      "cell_type": "code",
      "source": [
        "\n",
        "for iteration, (accuracy, selected_indices) in enumerate(zip(accuracy_iteration, new_indices_list), 1):\n",
        "    print(f\"Iteration {iteration}:\")\n",
        "    print(f\"Accuracy: {accuracy:.4f}\")\n",
        "    print(f\"Selected indices: {selected_indices}\")"
      ],
      "metadata": {
        "id": "df1_ESK5edMD"
      },
      "execution_count": null,
      "outputs": []
    },
    {
      "cell_type": "code",
      "source": [
        "accuracy_iteration2, new_indices_list2 = active_learning(train_X, train_y, pool_X,pool_y,test_X,test_y ,entropy, num_iterations=10, number_of_sample=1)\n",
        "accuracy_iteration1, new_indices_list1 = active_learning(train_X, train_y, pool_X,pool_y,test_X,test_y ,random_sample, num_iterations=10, number_of_sample=1)\n",
        "\n",
        "for iteration, (accuracy, selected_indices) in enumerate(zip(accuracy_iteration, new_indices_list), 1):\n",
        "    print(f\"Iteration {iteration}:\")\n",
        "    print(f\"Accuracy: {accuracy:.4f}\")\n",
        "    print(f\"Selected indices: {selected_indices}\")"
      ],
      "metadata": {
        "id": "t7JTZPLhF_Le"
      },
      "execution_count": null,
      "outputs": []
    },
    {
      "cell_type": "code",
      "source": [
        "plt.plot(range(1, len(accuracy_iteration) + 1), accuracy_iteration, marker='o', label='BALD Acquisition')\n",
        "plt.plot(range(1, len(accuracy_iteration) + 1), accuracy_iteration1, marker='o', label='Random Sampling Acquisition')\n",
        "plt.plot(range(1, len(accuracy_iteration) + 1), accuracy_iteration2, marker='o', label='Entropy')\n",
        "\n",
        "plt.xlabel('Iteration')\n",
        "plt.ylabel('Accuracy')\n",
        "plt.title('Accuracy Over Iterations')\n",
        "plt.grid()\n",
        "plt.legend()\n",
        "plt.show()"
      ],
      "metadata": {
        "colab": {
          "base_uri": "https://localhost:8080/",
          "height": 472
        },
        "id": "xd3GKCqlUBz-",
        "outputId": "b3a0c2d5-17c4-46b0-9156-a9271cc53646"
      },
      "execution_count": 25,
      "outputs": [
        {
          "output_type": "display_data",
          "data": {
            "text/plain": [
              "<Figure size 640x480 with 1 Axes>"
            ],
            "image/png": "[encoded data removed]"
          },
          "metadata": {}
        }
      ]
    },
    {
      "cell_type": "code",
      "source": [],
      "metadata": {
        "id": "3Pjg3nlWUBl4"
      },
      "execution_count": null,
      "outputs": []
    },
    {
      "cell_type": "code",
      "source": [
        "import numpy as np\n",
        "from sklearn.metrics import accuracy_score\n",
        "from tensorflow.keras.models import Sequential\n",
        "from tensorflow.keras.layers import Conv2D, MaxPooling2D, Flatten, Dense, Dropout\n",
        "from tensorflow.keras.utils import to_categorical\n",
        "\n",
        "def active_learning(train_X, train_y, pool_X_test, y_test, num_iterations):\n",
        "    accuracy_iteration = []\n",
        "\n",
        "    for iter in range(num_iterations):\n",
        "        model = Sequential([\n",
        "            Conv2D(32, (3, 3), activation='relu', input_shape=(224, 224, 3)),\n",
        "            MaxPooling2D(2, 2),\n",
        "            Conv2D(64, (3, 3), activation='relu'),\n",
        "            MaxPooling2D(2, 2),\n",
        "            Conv2D(128, (3, 3), activation='relu'),\n",
        "            MaxPooling2D(2, 2),\n",
        "            Flatten(),\n",
        "            Dense(512, activation='relu'),\n",
        "            Dropout(0.5),\n",
        "            Dense(2, activation='softmax')\n",
        "        ])\n",
        "        model.compile(optimizer='adam', loss='categorical_crossentropy')\n",
        "        # print(train_X.shape)\n",
        "        # print(train_y.shape)\n",
        "        # print(pool_X_test.shape)\n",
        "        model.fit(train_X, train_y, epochs=10, batch_size=32, verbose=0)\n",
        "\n",
        "        pool_probabilities = model.predict(pool_X_test)\n",
        "        threshold = 0.5\n",
        "        binary_predictions = np.where(pool_probabilities > threshold, 1, 0)\n",
        "        # print(pool_probabilities.dtype)\n",
        "        # print(type(y_test))\n",
        "\n",
        "        # print(y_pred_classes[0])\n",
        "        # print(y_test.shape)\n",
        "        # print(y_test.dtype)\n",
        "\n",
        "        accuracy = accuracy_score(y_test, binary_predictions)\n",
        "        accuracy_iteration.append(accuracy)\n",
        "\n",
        "    return accuracy_iteration\n"
      ],
      "metadata": {
        "id": "KHKiOlXZBE6a"
      },
      "execution_count": 50,
      "outputs": []
    },
    {
      "cell_type": "code",
      "source": [
        "accuracy_iteration = active_learning(train_X, train_y, pool_X, pool_y, num_iterations=5)\n",
        "\n",
        "print(\"Accuracy Iterations:\", accuracy_iteration)"
      ],
      "metadata": {
        "colab": {
          "base_uri": "https://localhost:8080/"
        },
        "id": "fVWA0oDcArI5",
        "outputId": "b9d59644-69c0-47c9-f83d-2041d6715423"
      },
      "execution_count": 51,
      "outputs": [
        {
          "output_type": "stream",
          "name": "stdout",
          "text": [
            "15/15 [==============================] - 0s 16ms/step\n",
            "15/15 [==============================] - 0s 17ms/step\n",
            "15/15 [==============================] - 0s 18ms/step\n",
            "15/15 [==============================] - 0s 20ms/step\n",
            "15/15 [==============================] - 0s 17ms/step\n",
            "Accuracy Iterations: [0.5501066098081023, 0.5031982942430704, 0.5181236673773987, 0.4946695095948827, 0.5309168443496801]\n"
          ]
        }
      ]
    },
    {
      "cell_type": "code",
      "source": [],
      "metadata": {
        "id": "DCAsUYB5pNoB"
      },
      "execution_count": null,
      "outputs": []
    }
  ],
  "metadata": {
    "colab": {
      "provenance": [],
      "include_colab_link": true
    },
    "kernelspec": {
      "display_name": "Python 3",
      "name": "python3"
    },
    "language_info": {
      "name": "python"
    }
  },
  "nbformat": 4,
  "nbformat_minor": 0
}